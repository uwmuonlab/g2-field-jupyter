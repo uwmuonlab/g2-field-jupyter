version https://git-lfs.github.com/spec/v1
oid sha256:ac643a1dda3053c4886c557b20b76b252cc9ddc7587f3fcddbbdebe87b119f01
size 1745199
