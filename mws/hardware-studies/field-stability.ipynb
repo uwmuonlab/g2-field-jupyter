version https://git-lfs.github.com/spec/v1
oid sha256:98b5b44db54423c2ca039fbb39519570063924fdf09c08c401649f39b0be0e02
size 317017
