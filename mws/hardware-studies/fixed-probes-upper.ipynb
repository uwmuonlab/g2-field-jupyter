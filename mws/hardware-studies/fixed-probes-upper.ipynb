version https://git-lfs.github.com/spec/v1
oid sha256:659bc82b6284bc695ff619fae31275023f74126fcbe0d5a52b430bedf6275f43
size 222750
