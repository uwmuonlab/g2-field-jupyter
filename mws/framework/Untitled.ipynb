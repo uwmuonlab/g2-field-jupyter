version https://git-lfs.github.com/spec/v1
oid sha256:f24ddcba9e5dba2e60be0d435975c934c616a8feaf0ddee2ab5e560365f85735
size 3670
