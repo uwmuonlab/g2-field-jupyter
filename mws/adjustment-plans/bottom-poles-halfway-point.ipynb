version https://git-lfs.github.com/spec/v1
oid sha256:cacc66f7db5d66792431b2170be8b1c4937169a8a24e96cde0fc8c69a0dd123d
size 723314
