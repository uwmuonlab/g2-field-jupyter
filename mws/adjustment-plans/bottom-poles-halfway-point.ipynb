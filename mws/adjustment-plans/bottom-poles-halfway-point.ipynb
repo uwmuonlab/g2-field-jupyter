version https://git-lfs.github.com/spec/v1
oid sha256:c94a3144cc76883061323eb30fd39a799613e27a3262f6501730a44e4581c538
size 723340
