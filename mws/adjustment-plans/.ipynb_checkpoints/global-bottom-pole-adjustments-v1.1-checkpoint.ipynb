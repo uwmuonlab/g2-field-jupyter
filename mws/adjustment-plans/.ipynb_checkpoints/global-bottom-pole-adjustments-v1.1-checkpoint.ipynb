version https://git-lfs.github.com/spec/v1
oid sha256:7f88d17001c624dc6733ccbb324b0d913434dc44d30476106ec035e79f2f2265
size 2130696
