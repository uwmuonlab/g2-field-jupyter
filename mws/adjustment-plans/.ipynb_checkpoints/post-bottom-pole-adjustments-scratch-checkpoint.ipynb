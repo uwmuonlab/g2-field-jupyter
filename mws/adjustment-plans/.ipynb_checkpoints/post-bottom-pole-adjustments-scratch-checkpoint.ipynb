version https://git-lfs.github.com/spec/v1
oid sha256:a9c606af332c77987610df6f58f86c37b8982c1cef60c24df5805e3becd4bbdd
size 1018357
