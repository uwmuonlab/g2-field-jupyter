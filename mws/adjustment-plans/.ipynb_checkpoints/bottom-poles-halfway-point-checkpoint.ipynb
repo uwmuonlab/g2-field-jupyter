version https://git-lfs.github.com/spec/v1
oid sha256:a568b2689ca5851a077c4399691e2e22ddf00ffe704ad2b6e69f81eb950346f4
size 695745
