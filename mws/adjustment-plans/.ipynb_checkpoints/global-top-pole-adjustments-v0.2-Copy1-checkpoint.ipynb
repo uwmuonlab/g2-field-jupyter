version https://git-lfs.github.com/spec/v1
oid sha256:5f8f66d2e533cefb25fa5a9da2698099602c71e55d3a4a410bc395b7f0b78119
size 3684265
