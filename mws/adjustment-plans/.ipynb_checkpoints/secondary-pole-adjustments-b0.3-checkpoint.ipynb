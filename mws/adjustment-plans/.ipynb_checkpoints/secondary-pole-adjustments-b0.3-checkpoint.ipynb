version https://git-lfs.github.com/spec/v1
oid sha256:9836c5fe6a4caa2eb6d5b1334a9dcdb81fe777e0a093c48bd784d75acc4d6eb7
size 751002
