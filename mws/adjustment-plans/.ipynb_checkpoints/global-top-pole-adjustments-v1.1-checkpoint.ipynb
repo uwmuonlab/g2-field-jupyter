version https://git-lfs.github.com/spec/v1
oid sha256:edf7946f35d262294c501c62435cafabe8728a5ddc4abd8a9ecdd1823ca9609f
size 3679673
