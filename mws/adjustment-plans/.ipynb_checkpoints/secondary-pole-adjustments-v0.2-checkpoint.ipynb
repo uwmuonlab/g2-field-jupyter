version https://git-lfs.github.com/spec/v1
oid sha256:453fdc2c4e8ccb7da00d3ed79b618865689f9fe3df1d01aef08c01e461a18e81
size 737053
