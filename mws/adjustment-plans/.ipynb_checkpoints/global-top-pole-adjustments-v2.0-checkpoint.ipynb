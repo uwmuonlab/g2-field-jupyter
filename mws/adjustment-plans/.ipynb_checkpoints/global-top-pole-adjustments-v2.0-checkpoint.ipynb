version https://git-lfs.github.com/spec/v1
oid sha256:a13e06cd3e4f9db11180d1e7f0f27601b56c946c1204a3916ea8c215337dfb60
size 2497012
