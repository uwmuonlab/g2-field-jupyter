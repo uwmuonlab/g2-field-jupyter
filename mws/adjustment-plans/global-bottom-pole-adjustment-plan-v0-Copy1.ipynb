version https://git-lfs.github.com/spec/v1
oid sha256:d5855ee6be3559306b8dfc8f144baad4bb5bd8c0fd6593dd3835041de2868d46
size 4047611
