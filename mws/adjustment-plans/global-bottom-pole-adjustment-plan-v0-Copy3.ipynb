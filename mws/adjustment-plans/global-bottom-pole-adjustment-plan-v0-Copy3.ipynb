version https://git-lfs.github.com/spec/v1
oid sha256:1b1268e7449dff35caab1e03088365db90e963d7934d045c4c1e77d1967b43c6
size 8293228
