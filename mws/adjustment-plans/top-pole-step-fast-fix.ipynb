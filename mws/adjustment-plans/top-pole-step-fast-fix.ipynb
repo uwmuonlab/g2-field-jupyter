version https://git-lfs.github.com/spec/v1
oid sha256:38ae2ee0db0e0c306bb5174727b11e4469616c1cc0b9c5f73c0376d08d70756c
size 154330
