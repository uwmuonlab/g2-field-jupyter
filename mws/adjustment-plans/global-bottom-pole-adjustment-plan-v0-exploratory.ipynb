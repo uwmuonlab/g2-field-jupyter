version https://git-lfs.github.com/spec/v1
oid sha256:93ffa40357f75e41fa8c2cbd0bd75ec8e793351740e3efcbc3285876615ca361
size 8171564
