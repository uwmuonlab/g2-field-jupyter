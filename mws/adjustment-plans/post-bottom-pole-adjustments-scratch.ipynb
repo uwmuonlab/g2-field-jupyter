version https://git-lfs.github.com/spec/v1
oid sha256:4eb0063471c4e0b58c8d322cff68f6713ce28a0671ff2a2e1b43a7ac74532845
size 1106477
