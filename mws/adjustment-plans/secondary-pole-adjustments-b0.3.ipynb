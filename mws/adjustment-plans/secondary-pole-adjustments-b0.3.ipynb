version https://git-lfs.github.com/spec/v1
oid sha256:ee5c6b6dd4572d2ce6570b448cf64362ea7b80d945e025dc9017e864624dbd0d
size 737728
