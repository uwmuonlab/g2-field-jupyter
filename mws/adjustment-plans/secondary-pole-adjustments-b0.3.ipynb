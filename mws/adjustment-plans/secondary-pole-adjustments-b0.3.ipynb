version https://git-lfs.github.com/spec/v1
oid sha256:3d65afae0f55004b32ecf71c58788003ce012096a0d3c4b4fdf7042a6e5513c8
size 737710
