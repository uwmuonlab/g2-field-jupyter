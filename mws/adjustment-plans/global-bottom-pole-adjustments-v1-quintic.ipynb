version https://git-lfs.github.com/spec/v1
oid sha256:2535415cdd47d50b184e6c5c83e28a107ae8458ed92641dbc829ce0559225b7b
size 2194177
