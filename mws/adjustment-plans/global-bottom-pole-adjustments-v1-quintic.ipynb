version https://git-lfs.github.com/spec/v1
oid sha256:03a70d3ea030a3fa9a3af7d9a8e773ad1a9cba0c215847197aaa0a3fca1981db
size 2194148
