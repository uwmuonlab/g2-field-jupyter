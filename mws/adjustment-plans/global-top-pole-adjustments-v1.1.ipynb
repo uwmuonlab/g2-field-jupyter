version https://git-lfs.github.com/spec/v1
oid sha256:2afd85a11de1ece5d3c6839cd2e7d3a1fe36f0f995cb4f6e514cddb76f0c3c98
size 296777
