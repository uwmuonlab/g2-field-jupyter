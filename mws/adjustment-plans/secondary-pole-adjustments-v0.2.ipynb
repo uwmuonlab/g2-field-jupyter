version https://git-lfs.github.com/spec/v1
oid sha256:607cbf7d8d59004514c2870f6736427fc3d9e1a7a1d8654509167e38700d6827
size 737029
