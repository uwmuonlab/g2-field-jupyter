version https://git-lfs.github.com/spec/v1
oid sha256:427086afbda84efd3ff80202ad7c86bb4e1c6aadd76450aa45739f4650ebffaa
size 504227
