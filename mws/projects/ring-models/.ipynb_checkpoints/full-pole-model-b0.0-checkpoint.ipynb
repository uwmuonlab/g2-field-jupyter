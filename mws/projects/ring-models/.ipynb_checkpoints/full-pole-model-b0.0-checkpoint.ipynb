version https://git-lfs.github.com/spec/v1
oid sha256:d2d508d418411235184296d86ae454a7c72e08aa0cd528d92e3693c7b70081e7
size 10414
