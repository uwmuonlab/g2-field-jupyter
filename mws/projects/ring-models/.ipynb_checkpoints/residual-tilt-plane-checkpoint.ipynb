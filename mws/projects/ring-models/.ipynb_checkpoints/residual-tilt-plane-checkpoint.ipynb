version https://git-lfs.github.com/spec/v1
oid sha256:5daa23f302f242ccf4452754386c01ab983c6513ebebeeebf747b7c1113857e5
size 568202
