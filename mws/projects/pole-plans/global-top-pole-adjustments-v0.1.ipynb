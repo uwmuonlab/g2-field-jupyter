version https://git-lfs.github.com/spec/v1
oid sha256:8fca3a074da0ca8d02b4e44c18d364377122505e36a69ca4a73a53cd8c4528ed
size 3372011
