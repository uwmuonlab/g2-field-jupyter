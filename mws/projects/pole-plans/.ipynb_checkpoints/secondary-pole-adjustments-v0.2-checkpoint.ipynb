version https://git-lfs.github.com/spec/v1
oid sha256:4fad59e33b178b9007b88f44bc0c00582814a43fb547d17f13c17d75e4a826f0
size 724821
