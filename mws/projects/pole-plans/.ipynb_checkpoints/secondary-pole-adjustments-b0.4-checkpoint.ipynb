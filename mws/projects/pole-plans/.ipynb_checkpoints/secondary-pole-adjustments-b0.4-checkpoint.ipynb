version https://git-lfs.github.com/spec/v1
oid sha256:3b61c71c70dc4d625a835e75229d28913b531e94a71bf06aba0f1007e71b7ff5
size 1631226
