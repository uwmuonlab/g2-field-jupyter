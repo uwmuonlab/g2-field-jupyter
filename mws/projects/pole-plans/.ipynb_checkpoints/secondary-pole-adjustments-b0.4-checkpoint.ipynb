version https://git-lfs.github.com/spec/v1
oid sha256:f20e8669d737aebb7d5f7dab1a0811d522c34a967534efd4d0bf51e316bc91d3
size 1404886
