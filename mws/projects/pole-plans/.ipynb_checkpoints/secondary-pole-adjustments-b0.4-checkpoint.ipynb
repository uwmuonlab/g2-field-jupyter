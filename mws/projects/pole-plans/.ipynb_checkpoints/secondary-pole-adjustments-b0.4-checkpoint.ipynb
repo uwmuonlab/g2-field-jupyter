version https://git-lfs.github.com/spec/v1
oid sha256:373dcc3d8afebb76adff1f423ed64138448c2d40326e74438f4771fe5ece70d6
size 1433040
