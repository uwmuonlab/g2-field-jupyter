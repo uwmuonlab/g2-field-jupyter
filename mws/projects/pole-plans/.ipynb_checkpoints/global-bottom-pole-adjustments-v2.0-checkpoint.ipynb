version https://git-lfs.github.com/spec/v1
oid sha256:540187ef5d2ce9b34970f88dc8d332d449332ef40aa3c1e402177c9e388a180f
size 1871511
