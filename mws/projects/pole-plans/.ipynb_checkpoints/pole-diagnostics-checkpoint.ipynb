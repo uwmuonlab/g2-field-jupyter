version https://git-lfs.github.com/spec/v1
oid sha256:9fcf9852a122f886401c46691d873aa6a16b454107a89b26c0bda6e75e5b63d4
size 697029
