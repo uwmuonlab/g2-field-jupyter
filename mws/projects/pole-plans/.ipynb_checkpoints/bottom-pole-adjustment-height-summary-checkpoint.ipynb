version https://git-lfs.github.com/spec/v1
oid sha256:afcb13c62b49b0c7771c363ed84725547bca762dcd3ad21daea54da2b945f527
size 878412
