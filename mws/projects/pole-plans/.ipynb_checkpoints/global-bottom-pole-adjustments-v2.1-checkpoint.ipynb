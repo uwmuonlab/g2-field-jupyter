version https://git-lfs.github.com/spec/v1
oid sha256:657f0d9dd0975721370b6edb1549b4b4290eeb6d42928e612244d9fe918623a8
size 28660
