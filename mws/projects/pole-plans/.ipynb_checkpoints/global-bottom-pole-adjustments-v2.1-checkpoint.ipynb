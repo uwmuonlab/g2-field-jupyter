version https://git-lfs.github.com/spec/v1
oid sha256:bfbaad92518f54af6c7543c159c8ac5c8968bddb9b160db4588edc7127f69315
size 115002
