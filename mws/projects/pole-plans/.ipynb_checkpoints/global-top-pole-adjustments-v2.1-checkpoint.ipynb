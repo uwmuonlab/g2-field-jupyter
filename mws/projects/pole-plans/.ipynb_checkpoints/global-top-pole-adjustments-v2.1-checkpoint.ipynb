version https://git-lfs.github.com/spec/v1
oid sha256:80b8e314de6e339fa4f937c59aeb23a1bf4cab9d499ccbd2062e3a77f15dc822
size 1101343
