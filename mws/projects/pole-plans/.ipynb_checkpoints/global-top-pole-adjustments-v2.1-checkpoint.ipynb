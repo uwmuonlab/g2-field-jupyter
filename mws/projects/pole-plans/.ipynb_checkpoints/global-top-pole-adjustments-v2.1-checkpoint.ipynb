version https://git-lfs.github.com/spec/v1
oid sha256:ec19c8eb836ee3fb9d952f08bab28f33648a86bfc78a639e1d686ef0f1777780
size 2470297
