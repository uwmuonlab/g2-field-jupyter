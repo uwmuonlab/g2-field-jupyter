version https://git-lfs.github.com/spec/v1
oid sha256:a5eff06a920d24202d67ef5bad4912ef3c7447962f8c0eaf71b122793696b066
size 3026416
