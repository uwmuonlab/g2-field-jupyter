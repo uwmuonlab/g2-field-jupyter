version https://git-lfs.github.com/spec/v1
oid sha256:ec829e4f280665357945e15d1e071efd79b8e875ccb99a7221d0c45b357186b1
size 1329464
