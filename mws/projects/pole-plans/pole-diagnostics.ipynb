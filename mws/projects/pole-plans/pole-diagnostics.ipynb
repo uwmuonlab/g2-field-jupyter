version https://git-lfs.github.com/spec/v1
oid sha256:65262bd1585033d55a482d930b83684efc24e9c07d857360659e9d030630cc8a
size 607444
