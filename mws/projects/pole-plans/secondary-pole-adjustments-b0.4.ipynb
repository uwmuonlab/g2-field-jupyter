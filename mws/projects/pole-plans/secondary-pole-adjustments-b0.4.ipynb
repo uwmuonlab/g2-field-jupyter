version https://git-lfs.github.com/spec/v1
oid sha256:4cfae4d2641e3a1afe1ff4e95c5282060f007eae239ef9ee4e459bd9b61e1ee7
size 1292730
