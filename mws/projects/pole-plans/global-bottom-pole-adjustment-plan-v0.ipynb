version https://git-lfs.github.com/spec/v1
oid sha256:e3779c2500253a0e1543692dbe8eb980d00e9acbda50a7de6f280bfa57cc0ab6
size 1736762
