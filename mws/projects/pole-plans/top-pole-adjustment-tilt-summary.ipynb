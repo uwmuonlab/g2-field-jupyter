version https://git-lfs.github.com/spec/v1
oid sha256:64fae96f1ab281847e737ee5ec0bf353a4a9f714f9c471cc75ae7c294b33a1bb
size 125119
