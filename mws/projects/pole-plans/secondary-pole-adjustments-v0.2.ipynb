version https://git-lfs.github.com/spec/v1
oid sha256:6b8d5587ca193b4104ce855c76283785523dc623f6bc68e105d5e14981a2f480
size 723498
