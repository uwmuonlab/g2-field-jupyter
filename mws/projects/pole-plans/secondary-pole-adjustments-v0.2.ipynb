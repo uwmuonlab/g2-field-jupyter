version https://git-lfs.github.com/spec/v1
oid sha256:d7cebb5646ed32a6ce2ea8b217422cfab6dca17d7c1e31e4e9f913a422ed32ad
size 735077
