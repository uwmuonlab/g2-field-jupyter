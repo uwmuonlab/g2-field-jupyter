version https://git-lfs.github.com/spec/v1
oid sha256:07458dfbb133dbd4420a2ed0289a198e4f8a1b5aec49750d8931ff530f9f0375
size 3684234
