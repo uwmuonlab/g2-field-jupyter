version https://git-lfs.github.com/spec/v1
oid sha256:580e520f46f6062bec5957a595a5a9a6a4e55a12afec29f1d8698b64a8103315
size 1046141
