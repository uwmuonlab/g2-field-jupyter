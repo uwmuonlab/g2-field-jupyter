version https://git-lfs.github.com/spec/v1
oid sha256:8164709f3b6e86d6084ea1cd9aff4d44cee17f870fd93848ea52f69924a4223a
size 407230
