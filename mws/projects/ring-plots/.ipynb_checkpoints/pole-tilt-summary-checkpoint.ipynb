version https://git-lfs.github.com/spec/v1
oid sha256:68cd5117386f909fc372f9ce708c037dd8222f9c019d703833ef58e25f78f069
size 422259
