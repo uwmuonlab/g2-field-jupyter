version https://git-lfs.github.com/spec/v1
oid sha256:d1971ced24f7b0476b3a7f1d14956eacf3769f331d83f38d7d39c0668265a085
size 1871609
