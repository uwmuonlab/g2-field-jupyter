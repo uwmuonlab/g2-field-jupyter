version https://git-lfs.github.com/spec/v1
oid sha256:81b9a170bc01946f42b4a9eb2acdde344c38d3373484cbebf9e49ee3c800d1d7
size 1868260
