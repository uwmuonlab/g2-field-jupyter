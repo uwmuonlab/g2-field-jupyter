version https://git-lfs.github.com/spec/v1
oid sha256:8c9df91740ee76cd3cb781fc3e2bc4de0a66868ee3c4b7469636b4e927580edd
size 1831853
