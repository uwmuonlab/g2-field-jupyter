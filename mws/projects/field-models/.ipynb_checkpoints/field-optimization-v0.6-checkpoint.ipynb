version https://git-lfs.github.com/spec/v1
oid sha256:77fc7820893239368badff875ccedc2b98921fe214485f0ceba6b273c2f418d9
size 1714165
