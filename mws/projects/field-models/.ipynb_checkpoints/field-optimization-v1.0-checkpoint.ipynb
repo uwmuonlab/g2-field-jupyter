version https://git-lfs.github.com/spec/v1
oid sha256:a62e6072d94054c66a051312edadcbc03a5918ab2783328d7308bc8da7152df7
size 1734644
