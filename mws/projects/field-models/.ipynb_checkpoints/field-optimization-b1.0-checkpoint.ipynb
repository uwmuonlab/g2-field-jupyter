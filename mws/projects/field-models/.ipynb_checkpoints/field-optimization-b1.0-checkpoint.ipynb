version https://git-lfs.github.com/spec/v1
oid sha256:8d33f191adb60b13b322ecebfbd1e096e158b3ed6e6bc9ec375b546cc2ea7132
size 27131
