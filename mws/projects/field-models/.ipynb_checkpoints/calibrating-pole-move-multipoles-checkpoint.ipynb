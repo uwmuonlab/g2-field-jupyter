version https://git-lfs.github.com/spec/v1
oid sha256:efa40070dac2967d5fb0cdb5188cf0e446dbe87b2600af44a4d9ebfb16ebf71f
size 1431080
