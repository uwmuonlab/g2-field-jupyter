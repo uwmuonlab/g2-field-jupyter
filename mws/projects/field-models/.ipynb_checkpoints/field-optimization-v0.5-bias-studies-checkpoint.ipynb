version https://git-lfs.github.com/spec/v1
oid sha256:5a1e7b047f9317bb90116421ecfc03d3b8958f20a2257c5c568aba137290bfc7
size 33208
