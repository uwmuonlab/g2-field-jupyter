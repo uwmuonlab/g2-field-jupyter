version https://git-lfs.github.com/spec/v1
oid sha256:dc3599be7a0dcd55962b4812b52725025bda35f49fed60b6ff2d53b9846a1757
size 137224
