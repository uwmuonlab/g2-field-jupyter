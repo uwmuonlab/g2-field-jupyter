version https://git-lfs.github.com/spec/v1
oid sha256:72e415e7bcb7ad8b192eb9292ff1f3992fd281b5309c44460baaca29242e856e
size 436219
