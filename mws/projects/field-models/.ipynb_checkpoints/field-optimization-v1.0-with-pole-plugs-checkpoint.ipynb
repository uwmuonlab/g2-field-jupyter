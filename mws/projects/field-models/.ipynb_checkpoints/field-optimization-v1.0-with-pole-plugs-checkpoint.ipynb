version https://git-lfs.github.com/spec/v1
oid sha256:40aafd7c6ab7d91b3bd87871f0c6269af024134c297e7c3d127d7e5e95f4f422
size 1873471
