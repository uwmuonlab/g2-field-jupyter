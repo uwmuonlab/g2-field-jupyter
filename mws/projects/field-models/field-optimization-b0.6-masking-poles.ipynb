version https://git-lfs.github.com/spec/v1
oid sha256:bd9dbf54ab3c96a6a9c6d1579d7a6ed0f04b432919530f8d6a9dfe4985a17880
size 1664503
