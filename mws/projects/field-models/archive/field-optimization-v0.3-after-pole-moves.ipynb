version https://git-lfs.github.com/spec/v1
oid sha256:4c2318cf7c780e35d792eac3f31f7e7a586ed8101bac2ce2158787e8ce1dcac7
size 2178039
