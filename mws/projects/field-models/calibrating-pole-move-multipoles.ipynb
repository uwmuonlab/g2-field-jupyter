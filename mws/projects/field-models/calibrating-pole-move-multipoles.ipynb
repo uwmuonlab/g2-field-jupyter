version https://git-lfs.github.com/spec/v1
oid sha256:d394fdce412a30a811aafd125a4381f3c00610170bc5bf92c55f5dd898e0e0b3
size 2399358
