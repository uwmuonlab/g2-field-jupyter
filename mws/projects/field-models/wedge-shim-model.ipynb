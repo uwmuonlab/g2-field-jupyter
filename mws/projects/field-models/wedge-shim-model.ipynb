version https://git-lfs.github.com/spec/v1
oid sha256:8a2865fd1652a420299e69c373c90ec335e5a0a93b48c19b3a66a5e1eea4a5b7
size 409093
