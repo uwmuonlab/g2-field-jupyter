version https://git-lfs.github.com/spec/v1
oid sha256:5072fe57b7cfcc6eeab29a26fe01e7cb1c147dcaaf521497bc44ec311cec3e8e
size 1866900
