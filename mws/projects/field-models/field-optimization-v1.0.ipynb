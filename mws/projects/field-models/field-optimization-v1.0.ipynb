version https://git-lfs.github.com/spec/v1
oid sha256:d3d64e1db028ad6fb6bcf1a4a9186ad4baacc7f28042d8f445b6fdb71e65e190
size 1793041
