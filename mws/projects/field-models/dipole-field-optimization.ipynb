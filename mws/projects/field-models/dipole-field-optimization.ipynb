version https://git-lfs.github.com/spec/v1
oid sha256:a0bb1674f7e14a1fbe302de36ff2c6a2eee176596975ad3ebba47270e49f1cb8
size 365860
