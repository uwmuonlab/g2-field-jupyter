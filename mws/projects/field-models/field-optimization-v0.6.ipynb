version https://git-lfs.github.com/spec/v1
oid sha256:fc343b2de511a1a33ce345ad406004e347058ca49d6855b6ddd102e8e8d743ab
size 1831858
