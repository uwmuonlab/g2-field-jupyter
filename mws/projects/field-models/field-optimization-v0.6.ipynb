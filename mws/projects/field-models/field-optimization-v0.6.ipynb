version https://git-lfs.github.com/spec/v1
oid sha256:541970e5d0cc04af53cd926da462fec8d204af36aeedc799d6c94175bf59e9f8
size 1866850
