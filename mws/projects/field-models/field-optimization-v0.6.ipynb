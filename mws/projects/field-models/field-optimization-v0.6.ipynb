version https://git-lfs.github.com/spec/v1
oid sha256:bdc42d0900bad5d2cb283d8bac33d973210fc760e947ca47adfea2f4fa055e34
size 1831528
