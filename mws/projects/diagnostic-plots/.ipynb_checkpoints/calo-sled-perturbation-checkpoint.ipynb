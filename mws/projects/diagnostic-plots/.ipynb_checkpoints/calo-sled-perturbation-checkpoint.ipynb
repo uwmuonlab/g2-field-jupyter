version https://git-lfs.github.com/spec/v1
oid sha256:017277e110f1f5d21d01f744812f8e6bc4d85b53f06bc8a5295f22945434fd22
size 395577
