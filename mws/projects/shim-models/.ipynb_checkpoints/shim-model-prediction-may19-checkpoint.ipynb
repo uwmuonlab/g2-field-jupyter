version https://git-lfs.github.com/spec/v1
oid sha256:d46735bb3d6b5c479cd21f65da649c208aea3383632ae8f26afcaad277a2adca
size 467032
