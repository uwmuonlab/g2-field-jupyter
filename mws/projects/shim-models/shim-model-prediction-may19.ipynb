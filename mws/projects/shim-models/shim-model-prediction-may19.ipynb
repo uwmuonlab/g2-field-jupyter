version https://git-lfs.github.com/spec/v1
oid sha256:b32a2248e52fecc67bf86f583e66887d41696f8993c1291c03ed0030c5c26e51
size 459615
