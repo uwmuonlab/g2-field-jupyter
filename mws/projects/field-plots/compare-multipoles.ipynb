version https://git-lfs.github.com/spec/v1
oid sha256:8eea6fc5c2324989c60dddcee53b1508456472a2bb794e611eea037c87b56fcc
size 450723
