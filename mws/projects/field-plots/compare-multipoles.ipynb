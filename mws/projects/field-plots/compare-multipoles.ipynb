version https://git-lfs.github.com/spec/v1
oid sha256:a041f061fe71f423d0f2d1d8667c44f7ff21d3d7c496ec70fff2e4d0b301b290
size 549242
