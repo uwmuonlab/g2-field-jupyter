version https://git-lfs.github.com/spec/v1
oid sha256:48edb0e5f9d684e30084f04a0e1a302ff70a35612f53761ada5c0ae18083f683
size 369207
