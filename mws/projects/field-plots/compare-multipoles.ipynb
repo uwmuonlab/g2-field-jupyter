version https://git-lfs.github.com/spec/v1
oid sha256:260f5e7802e8fe6e09f063015113d132227825c4f4eb8a8a64722c9404d061ad
size 219261
