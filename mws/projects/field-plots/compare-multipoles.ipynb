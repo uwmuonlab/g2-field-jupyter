version https://git-lfs.github.com/spec/v1
oid sha256:1aa630092f0cc527c86b1a47e5f015ede96bfb33c8542d2fe3b6fc6dc625dd59
size 713849
