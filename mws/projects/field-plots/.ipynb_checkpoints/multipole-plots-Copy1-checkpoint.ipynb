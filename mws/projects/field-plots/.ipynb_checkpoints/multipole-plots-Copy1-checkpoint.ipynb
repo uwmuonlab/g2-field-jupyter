version https://git-lfs.github.com/spec/v1
oid sha256:ed81a0f2e3d6500ebf014767d96792eb23ba0e7559e712e2ed4b64144169e4d2
size 898835
