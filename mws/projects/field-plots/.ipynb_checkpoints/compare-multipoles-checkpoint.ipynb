version https://git-lfs.github.com/spec/v1
oid sha256:a916e643239d059b187bdaccd3e0a3ee8a8bbef09af46a783ff2d09f95ddac6b
size 614811
