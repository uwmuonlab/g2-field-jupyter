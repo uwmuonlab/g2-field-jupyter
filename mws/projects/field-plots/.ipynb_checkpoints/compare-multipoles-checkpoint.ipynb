version https://git-lfs.github.com/spec/v1
oid sha256:5842e7b94cf30729a6d313dd48915de3d657f21f2198fb024398fbd8065e982f
size 397187
