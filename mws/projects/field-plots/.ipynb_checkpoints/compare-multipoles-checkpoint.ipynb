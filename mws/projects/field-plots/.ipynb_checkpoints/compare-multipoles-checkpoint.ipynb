version https://git-lfs.github.com/spec/v1
oid sha256:aa02eee81b345115dcc0ce48398a8bb03c9d7077556655074724c39a57daa93f
size 562907
