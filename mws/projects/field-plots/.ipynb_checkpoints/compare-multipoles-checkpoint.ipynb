version https://git-lfs.github.com/spec/v1
oid sha256:80cb49e26d4919550cb8d266019b1b4bdb73b295bb7482266a7f9f223159810f
size 549242
