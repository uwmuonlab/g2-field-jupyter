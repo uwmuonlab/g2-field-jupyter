version https://git-lfs.github.com/spec/v1
oid sha256:e9e450250f6a3adf8f3eeb505128ef15c567cb6f80454a4f2d89d13e668b80f9
size 204996
