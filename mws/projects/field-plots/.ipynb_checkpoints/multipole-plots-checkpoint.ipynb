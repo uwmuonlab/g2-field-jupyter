version https://git-lfs.github.com/spec/v1
oid sha256:75fd338d169418ddc9ae06f91477c6b859679764efdb0f2a647c3217796a9166
size 33864
