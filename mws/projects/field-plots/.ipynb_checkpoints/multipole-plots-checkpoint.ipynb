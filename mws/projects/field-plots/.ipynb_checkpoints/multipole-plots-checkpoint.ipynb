version https://git-lfs.github.com/spec/v1
oid sha256:7ae010694366b7499d45ebc7b1603ba03290d160867a02b94afe4184e59d925c
size 441952
