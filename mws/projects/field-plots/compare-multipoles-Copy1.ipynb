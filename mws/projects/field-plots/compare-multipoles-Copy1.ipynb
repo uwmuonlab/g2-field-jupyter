version https://git-lfs.github.com/spec/v1
oid sha256:a9a6964dc09f95c133159f21457dde9452e60a1b5562b529ff05f6857e3e28ec
size 659953
