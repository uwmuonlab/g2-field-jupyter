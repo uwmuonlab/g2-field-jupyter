version https://git-lfs.github.com/spec/v1
oid sha256:ac2c738e66d6b93154fa54d02e12ae52f2f86f3f0dc2b8c89262182f7228582b
size 1130922
