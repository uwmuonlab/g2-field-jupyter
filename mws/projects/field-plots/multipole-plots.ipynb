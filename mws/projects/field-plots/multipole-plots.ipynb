version https://git-lfs.github.com/spec/v1
oid sha256:37b2a4725c6163d2c9e691a59e9f8a04b3f9e3eab491644f194ae9d73bdcbca4
size 1095148
