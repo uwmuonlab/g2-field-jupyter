version https://git-lfs.github.com/spec/v1
oid sha256:62605011ec285db5e012443ba2ef74b97a1161e81eb9b74a16bb5320fc902391
size 627084
