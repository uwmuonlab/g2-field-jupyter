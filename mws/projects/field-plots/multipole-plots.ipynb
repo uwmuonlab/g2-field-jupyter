version https://git-lfs.github.com/spec/v1
oid sha256:b22cdb263847c54433767ff48e6f6a5060e14241b9e0986c636decd9f0381003
size 627681
