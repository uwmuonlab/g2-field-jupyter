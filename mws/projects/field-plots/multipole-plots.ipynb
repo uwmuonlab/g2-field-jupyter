version https://git-lfs.github.com/spec/v1
oid sha256:51efbf5fbc93a96217476d55ed25e3743e536cec2f4183ceda99a6a4129e7c7c
size 605798
