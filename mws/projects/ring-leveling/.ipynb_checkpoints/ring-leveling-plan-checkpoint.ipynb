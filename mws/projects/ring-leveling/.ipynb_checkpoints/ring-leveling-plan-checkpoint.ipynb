version https://git-lfs.github.com/spec/v1
oid sha256:700f1865f59d6240c90c78542e75eef5cfeac97be900e85f06584a12bf32a9ba
size 747126
