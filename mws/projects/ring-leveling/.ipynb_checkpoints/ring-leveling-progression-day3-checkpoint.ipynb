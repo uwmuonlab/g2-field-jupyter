version https://git-lfs.github.com/spec/v1
oid sha256:716c1f41b1b675647bd6a144c7555efae01987fc4577fb995795e6d867da1bc0
size 409591
