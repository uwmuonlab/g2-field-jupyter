version https://git-lfs.github.com/spec/v1
oid sha256:09da25e268fbadd2de96dd45a60cb28380c67518a8d15a75a09ad390e062b1c4
size 794484
