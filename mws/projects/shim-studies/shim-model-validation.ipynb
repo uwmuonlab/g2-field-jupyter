version https://git-lfs.github.com/spec/v1
oid sha256:4a489b3c1717449e8214a2b355991ccc8f43e9a21956a7c815315d66272c9880
size 10096
