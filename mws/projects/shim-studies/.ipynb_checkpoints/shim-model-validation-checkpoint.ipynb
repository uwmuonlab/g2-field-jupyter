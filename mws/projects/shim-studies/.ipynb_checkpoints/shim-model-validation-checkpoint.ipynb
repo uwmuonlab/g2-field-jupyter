version https://git-lfs.github.com/spec/v1
oid sha256:d87bfbd155a958844e1fec8ab3e1f844c5a713dede3c4be6fa7033e4523afa3d
size 292566
