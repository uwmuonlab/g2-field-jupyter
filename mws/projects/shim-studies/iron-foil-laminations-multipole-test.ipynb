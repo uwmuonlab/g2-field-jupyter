version https://git-lfs.github.com/spec/v1
oid sha256:d2c874c131870e45dcfb5270af3b932a3308b02e50c55a1a281199b3eab87647
size 355462
