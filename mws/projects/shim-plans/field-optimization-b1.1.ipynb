version https://git-lfs.github.com/spec/v1
oid sha256:a9eb884741bd82f9de49d4bc64cd91eda3d53734726f39a7b3400ff7f781c229
size 1781494
