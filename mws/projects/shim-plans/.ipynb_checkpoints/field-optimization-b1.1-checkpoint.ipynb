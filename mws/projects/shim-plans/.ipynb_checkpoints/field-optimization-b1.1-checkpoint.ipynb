version https://git-lfs.github.com/spec/v1
oid sha256:470f70512eff6c2a5753bd1f593c64091c168a611f69c5b57541210b8ecdc269
size 1777819
