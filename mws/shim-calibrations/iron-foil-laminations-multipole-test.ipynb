version https://git-lfs.github.com/spec/v1
oid sha256:f1f17fecd4984a45021ca1f9debeeb942c5b2ce2e4ac37f9932559386f89e55a
size 315442
