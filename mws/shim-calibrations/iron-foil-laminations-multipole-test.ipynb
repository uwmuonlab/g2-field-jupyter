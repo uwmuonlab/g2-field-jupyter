version https://git-lfs.github.com/spec/v1
oid sha256:a8b145295af7254d3bb4a16d9b11becf47269f97e99f6e22820e4177bd070afd
size 315438
