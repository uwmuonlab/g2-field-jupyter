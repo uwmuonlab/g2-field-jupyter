version https://git-lfs.github.com/spec/v1
oid sha256:c85ca6b2229791d1e2b6b72c2de440e98a7a494a38509a4b4ee145fefc739419
size 4782
