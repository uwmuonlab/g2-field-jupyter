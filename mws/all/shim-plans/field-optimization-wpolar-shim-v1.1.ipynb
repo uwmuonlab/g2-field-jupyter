version https://git-lfs.github.com/spec/v1
oid sha256:cbc961adc32f05f0e06362727b33e3edb00b22940a5d0f2aaff37d85037ab06b
size 2092177
