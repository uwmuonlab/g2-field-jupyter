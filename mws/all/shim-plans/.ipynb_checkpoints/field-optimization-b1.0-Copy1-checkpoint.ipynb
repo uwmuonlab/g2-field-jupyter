version https://git-lfs.github.com/spec/v1
oid sha256:6fd54494f47b7a4848f391282d46d2ac80896a506139cb31853aa7cba47babcf
size 1690922
