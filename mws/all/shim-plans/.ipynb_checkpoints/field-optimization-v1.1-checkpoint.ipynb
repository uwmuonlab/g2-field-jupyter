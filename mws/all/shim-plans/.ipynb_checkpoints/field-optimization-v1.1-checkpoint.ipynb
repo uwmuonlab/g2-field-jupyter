version https://git-lfs.github.com/spec/v1
oid sha256:9c314cb01c51e7568a8e0ee03ad18ea334b8d6c9b2317cbed70723d16e7b4bef
size 1769747
