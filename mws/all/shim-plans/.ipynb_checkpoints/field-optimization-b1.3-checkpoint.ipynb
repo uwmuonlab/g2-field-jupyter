version https://git-lfs.github.com/spec/v1
oid sha256:f288b54123600ee5d054ec83eef5dd01d1b82364b5c7caa80de5c794b6a2e51e
size 2313115
