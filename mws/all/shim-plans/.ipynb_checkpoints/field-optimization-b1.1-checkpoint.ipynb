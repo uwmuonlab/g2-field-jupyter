version https://git-lfs.github.com/spec/v1
oid sha256:95a1cfab7f9f902dbe33d4c472b22fff686a332d820f00f4ba2d360debdf6f29
size 1795853
