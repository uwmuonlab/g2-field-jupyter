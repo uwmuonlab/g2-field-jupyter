version https://git-lfs.github.com/spec/v1
oid sha256:63de7d00f43dd2d545961365008c002cee72628b5c50071f61b36192337a63f5
size 2244624
