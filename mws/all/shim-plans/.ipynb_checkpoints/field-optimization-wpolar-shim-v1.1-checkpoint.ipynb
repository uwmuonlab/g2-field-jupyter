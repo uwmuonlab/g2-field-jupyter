version https://git-lfs.github.com/spec/v1
oid sha256:eb486f1516676ecaacc08614aaff0a3894d5e0bafb2c9589a972aa3f0c0e385f
size 33059
