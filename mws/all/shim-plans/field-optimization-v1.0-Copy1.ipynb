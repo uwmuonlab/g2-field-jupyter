version https://git-lfs.github.com/spec/v1
oid sha256:6d042fde22e8c06bccab9ef2f4886daf6023234c2b199f850a5a09d61f1968ea
size 1777819
