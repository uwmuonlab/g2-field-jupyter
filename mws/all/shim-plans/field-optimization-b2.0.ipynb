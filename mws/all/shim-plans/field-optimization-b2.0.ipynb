version https://git-lfs.github.com/spec/v1
oid sha256:445d50be3bc3f134cd82be0dc70d4738f0798a6cec66c8f8df212397d88ca3a9
size 2244549
