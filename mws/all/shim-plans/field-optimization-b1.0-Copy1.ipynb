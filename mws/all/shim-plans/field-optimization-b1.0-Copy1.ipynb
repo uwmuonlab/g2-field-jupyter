version https://git-lfs.github.com/spec/v1
oid sha256:e26683107b1c591c321e3fa692842661994c8e0d09f4cf0f79bf36148b7921fd
size 1690922
