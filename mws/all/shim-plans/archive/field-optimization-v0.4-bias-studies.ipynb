version https://git-lfs.github.com/spec/v1
oid sha256:c099f6416742a0014060f96c00fb9cc249050d54f651edc4b03dee93496350c0
size 1702408
