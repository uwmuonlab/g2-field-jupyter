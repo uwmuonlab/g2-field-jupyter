version https://git-lfs.github.com/spec/v1
oid sha256:eb8986f65729dcb98cf714776038b8f9c9a9108bd1523ab691ec1b2d9503c578
size 373966
