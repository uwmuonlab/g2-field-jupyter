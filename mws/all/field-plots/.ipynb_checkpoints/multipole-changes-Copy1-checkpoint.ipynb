version https://git-lfs.github.com/spec/v1
oid sha256:35043f80ccf6778549572bf96a955abcb9f0cf87ae08b344efc77673c10163a3
size 3139
