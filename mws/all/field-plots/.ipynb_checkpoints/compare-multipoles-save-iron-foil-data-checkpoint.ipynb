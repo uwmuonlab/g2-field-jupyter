version https://git-lfs.github.com/spec/v1
oid sha256:d168573fbd4187ec58fa924d793bb521f7a997c80104d55c0bf0903a43280e82
size 308700
