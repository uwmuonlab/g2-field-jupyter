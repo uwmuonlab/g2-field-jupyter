version https://git-lfs.github.com/spec/v1
oid sha256:43c415782adf624610e4c3c8b10443af9541d13ae58333c806414b41fdb66358
size 190543
