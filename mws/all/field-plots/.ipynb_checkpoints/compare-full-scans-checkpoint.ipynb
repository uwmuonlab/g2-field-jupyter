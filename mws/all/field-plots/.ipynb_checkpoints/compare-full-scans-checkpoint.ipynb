version https://git-lfs.github.com/spec/v1
oid sha256:0d0c93217b942c5f13ad3640388abcd4f1bfd5e7401294fec6af1db403f8e31c
size 835314
