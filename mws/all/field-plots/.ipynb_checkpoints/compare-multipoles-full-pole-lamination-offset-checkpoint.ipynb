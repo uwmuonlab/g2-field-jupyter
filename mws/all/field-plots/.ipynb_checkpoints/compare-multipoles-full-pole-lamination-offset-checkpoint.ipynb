version https://git-lfs.github.com/spec/v1
oid sha256:88c859302bfa67438ea035f5a99a0967f45d2fa74096e233368140ad2e977bf4
size 8757746
