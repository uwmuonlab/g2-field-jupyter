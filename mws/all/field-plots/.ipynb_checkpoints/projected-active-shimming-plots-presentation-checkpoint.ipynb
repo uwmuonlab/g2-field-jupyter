version https://git-lfs.github.com/spec/v1
oid sha256:2faddb675f52b07d5b682a1627cb4ceb5206ee22ff113f4cdb3e6d593dd3791d
size 5811994
