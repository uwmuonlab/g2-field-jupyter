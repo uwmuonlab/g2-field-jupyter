version https://git-lfs.github.com/spec/v1
oid sha256:37922d8fb7acc32a2e588d5d1ce7fd7b4209e7d2b13d1ea593165c55e4e28015
size 212413
