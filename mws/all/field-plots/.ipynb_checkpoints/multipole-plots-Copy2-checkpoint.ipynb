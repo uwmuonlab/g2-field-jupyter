version https://git-lfs.github.com/spec/v1
oid sha256:dd82c4c7bb5bea152e3310f03393e6720ce32c4a5478eb02c8637d91f23cef35
size 1080946
