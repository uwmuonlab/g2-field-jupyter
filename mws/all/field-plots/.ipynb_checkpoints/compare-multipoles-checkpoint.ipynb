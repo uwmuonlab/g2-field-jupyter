version https://git-lfs.github.com/spec/v1
oid sha256:80048f76df82e23b94067bc35e8cde2830e235edf03c0b66e2ed94121f05960e
size 586489
