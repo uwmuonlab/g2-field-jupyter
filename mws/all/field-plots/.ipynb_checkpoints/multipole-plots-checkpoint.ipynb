version https://git-lfs.github.com/spec/v1
oid sha256:9778d4b2d46a32f831644e25edf746c01e3c71f16b4fa00117fa8f5561a58b30
size 1128952
