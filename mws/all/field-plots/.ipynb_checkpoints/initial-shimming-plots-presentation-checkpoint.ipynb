version https://git-lfs.github.com/spec/v1
oid sha256:05c9fd28d329cff65f1f6d41af843828b8da75a771e8997cb12ed6280d676358
size 5266678
