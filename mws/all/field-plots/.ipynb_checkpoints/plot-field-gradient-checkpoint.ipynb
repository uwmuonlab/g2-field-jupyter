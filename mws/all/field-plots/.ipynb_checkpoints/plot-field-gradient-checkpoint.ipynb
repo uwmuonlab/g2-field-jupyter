version https://git-lfs.github.com/spec/v1
oid sha256:926a7924447b2a0d4dd21ec1fea9272e22d54dc5f380beb8bbff3e9bbe879ee2
size 362533
