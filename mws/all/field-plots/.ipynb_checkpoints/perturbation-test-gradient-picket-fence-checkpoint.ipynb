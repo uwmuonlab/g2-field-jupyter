version https://git-lfs.github.com/spec/v1
oid sha256:f52efbb835405f93b10ef1d33c6c4473f65f5b183e54c0f5eb1722007d3b973f
size 24200
