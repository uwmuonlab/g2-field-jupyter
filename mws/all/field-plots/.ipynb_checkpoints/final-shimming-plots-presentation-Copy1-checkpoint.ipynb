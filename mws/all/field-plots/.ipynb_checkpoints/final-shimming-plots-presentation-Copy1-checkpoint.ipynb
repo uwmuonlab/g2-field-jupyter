version https://git-lfs.github.com/spec/v1
oid sha256:3534da0cbd431cdf5b70fcdda204d333a06331da25b1a90aff9c099d98a33fc2
size 5831734
