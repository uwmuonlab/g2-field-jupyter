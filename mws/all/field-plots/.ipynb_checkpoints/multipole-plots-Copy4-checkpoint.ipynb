version https://git-lfs.github.com/spec/v1
oid sha256:6d0905a9a1f91979a40f4d5a244435d824a8647a3d199ec147ab861f8f10d1d4
size 1064997
