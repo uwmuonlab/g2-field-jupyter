version https://git-lfs.github.com/spec/v1
oid sha256:57a77494c605c69ae51b1296f0d9fbd9648373f7ed858fb422d771cadd2d77d8
size 5811933
