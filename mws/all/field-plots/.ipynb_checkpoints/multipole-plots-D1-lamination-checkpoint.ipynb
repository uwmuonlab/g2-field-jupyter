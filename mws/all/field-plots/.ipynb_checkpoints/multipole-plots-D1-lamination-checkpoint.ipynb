version https://git-lfs.github.com/spec/v1
oid sha256:d1751501b604778b0fdaba1afe4471e9c7fa5891c049202336ed31b4debe1269
size 331526
