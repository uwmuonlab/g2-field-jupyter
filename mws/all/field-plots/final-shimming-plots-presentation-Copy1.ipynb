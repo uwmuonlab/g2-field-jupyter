version https://git-lfs.github.com/spec/v1
oid sha256:76bdb21f77adc4b399139c655a10adb197c97c5c63b97857ff572034425249b0
size 5792893
