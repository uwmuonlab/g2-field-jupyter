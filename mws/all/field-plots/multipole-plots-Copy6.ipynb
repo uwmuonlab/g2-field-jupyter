version https://git-lfs.github.com/spec/v1
oid sha256:96eaaba87292bf30f46eb46c99a4f52043a5cb9fbfbf0b096150a4330eadb65e
size 593730
