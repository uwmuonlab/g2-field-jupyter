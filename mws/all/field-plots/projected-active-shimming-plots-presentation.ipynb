version https://git-lfs.github.com/spec/v1
oid sha256:a9241255bc3cd78917d9a7a62e057ffed6f56cb8bab8e6cb81a0ba9909941c03
size 5812451
