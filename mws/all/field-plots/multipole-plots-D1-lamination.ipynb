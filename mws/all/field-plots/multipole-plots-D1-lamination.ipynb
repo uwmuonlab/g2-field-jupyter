version https://git-lfs.github.com/spec/v1
oid sha256:c12a2a50626ceb25015c863ca5a1e4455ed8de08d5115faf2bc169049f9d1256
size 330268
