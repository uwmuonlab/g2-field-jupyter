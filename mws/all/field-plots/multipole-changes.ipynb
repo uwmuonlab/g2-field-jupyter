version https://git-lfs.github.com/spec/v1
oid sha256:96f7d35319cb19597bed4edf20bd56285590c4b4467d068c44d584dd4cdef8e9
size 1135612
