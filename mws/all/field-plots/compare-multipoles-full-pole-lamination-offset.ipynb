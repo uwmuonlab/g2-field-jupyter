version https://git-lfs.github.com/spec/v1
oid sha256:b81cdb0fc61fbc3b2db24c6d220096a0844fbfe06e277c1104a8e3c5afed80bd
size 3206842
