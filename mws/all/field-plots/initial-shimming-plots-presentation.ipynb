version https://git-lfs.github.com/spec/v1
oid sha256:4206e2a550598f33aae2fe772e16f3bf7e89cf18398343877b737a935b56247c
size 5342988
