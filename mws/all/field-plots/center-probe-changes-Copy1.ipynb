version https://git-lfs.github.com/spec/v1
oid sha256:3fc22573c0b6dee31bc8a72e55d5935aff18fed9eea881e0c44108b455a0ab69
size 24340
