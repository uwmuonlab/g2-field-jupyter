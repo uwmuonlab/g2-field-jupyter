version https://git-lfs.github.com/spec/v1
oid sha256:b9049181030ed47559dbf8aae0ad079bcf1126f9ac366b46c00b708996219f0d
size 3139
