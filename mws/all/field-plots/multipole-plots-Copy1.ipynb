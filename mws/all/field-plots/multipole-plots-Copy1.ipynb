version https://git-lfs.github.com/spec/v1
oid sha256:e05a827a1977860dac4a624da73b00a5cc02b7e45c29754e4f075eb05a1c3da1
size 948253
