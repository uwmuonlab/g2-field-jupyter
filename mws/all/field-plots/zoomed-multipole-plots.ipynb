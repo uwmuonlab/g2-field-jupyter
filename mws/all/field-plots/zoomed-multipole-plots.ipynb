version https://git-lfs.github.com/spec/v1
oid sha256:e2afe278334255f644d5b6448531987b96301ee1e844e74362f2af151d1a2b2a
size 284645
