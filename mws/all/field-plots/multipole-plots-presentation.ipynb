version https://git-lfs.github.com/spec/v1
oid sha256:986a4ba6c493d90a538c495d99583cd9f2a7c05f880c3724ee6c99c4ad741ce2
size 5369611
