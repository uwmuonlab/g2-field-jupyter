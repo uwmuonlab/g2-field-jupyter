version https://git-lfs.github.com/spec/v1
oid sha256:4320e5f601d832316607e488ac8b6fba448e6f65f464411283cf79cbc5722f3c
size 6069807
