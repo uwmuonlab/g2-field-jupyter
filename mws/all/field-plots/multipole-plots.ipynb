version https://git-lfs.github.com/spec/v1
oid sha256:1e9b13cfdaef808697538b0368fc5dad33a83862a09aeb03070ca38050164350
size 1128812
