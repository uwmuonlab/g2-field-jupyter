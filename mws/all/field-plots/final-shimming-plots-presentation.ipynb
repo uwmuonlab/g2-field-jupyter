version https://git-lfs.github.com/spec/v1
oid sha256:d228660fd09577c20c6905d3869e0f3f5de8bff4bd07cc9cc515865a71b6b20b
size 5812083
