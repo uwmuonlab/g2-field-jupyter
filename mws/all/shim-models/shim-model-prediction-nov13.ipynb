version https://git-lfs.github.com/spec/v1
oid sha256:38196ca177f65e1a809acffd10dd05560f84a6ce0d699ff78c9efccfb6705898
size 467994
