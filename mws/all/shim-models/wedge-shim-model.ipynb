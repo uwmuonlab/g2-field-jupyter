version https://git-lfs.github.com/spec/v1
oid sha256:46544c399a05ed2b4477cc73a5d85647ff95d386a662b95af953ce6598a70fda
size 398524
