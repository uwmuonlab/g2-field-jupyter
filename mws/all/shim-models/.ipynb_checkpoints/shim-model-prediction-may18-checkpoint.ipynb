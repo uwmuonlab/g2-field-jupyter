version https://git-lfs.github.com/spec/v1
oid sha256:9801ce5f147eb71c8d1bccffef7cac88cfe9052a5513cc70147a2aaf7ce22c88
size 384943
