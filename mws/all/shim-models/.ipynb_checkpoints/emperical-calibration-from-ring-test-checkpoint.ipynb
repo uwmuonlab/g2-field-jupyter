version https://git-lfs.github.com/spec/v1
oid sha256:d9d92cb09faa37a6a2160158abb1bc097018d4e9fca076bebd50b240b9688d87
size 340968
