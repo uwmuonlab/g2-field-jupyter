version https://git-lfs.github.com/spec/v1
oid sha256:e3a5ff4382ade8008bcf28c6d67a85671fd55eb90e73df686a6934958ee80323
size 212321
