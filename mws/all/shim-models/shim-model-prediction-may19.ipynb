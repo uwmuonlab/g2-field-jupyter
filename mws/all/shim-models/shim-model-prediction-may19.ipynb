version https://git-lfs.github.com/spec/v1
oid sha256:e9b4f515d016a3287cf606152ae225279bf6ebed9c377aaf3e095d7610b0252a
size 354177
