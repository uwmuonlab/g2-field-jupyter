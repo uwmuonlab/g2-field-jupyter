version https://git-lfs.github.com/spec/v1
oid sha256:afdce22adc967100c36095db8d8e46c450c1d6e2c4761bf2e8302e4cad26476d
size 28650
