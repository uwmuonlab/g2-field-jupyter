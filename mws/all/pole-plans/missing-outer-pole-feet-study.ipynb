version https://git-lfs.github.com/spec/v1
oid sha256:b3370e769e612100f0343066066a204d256a5807195cf66abaf08b247f8a1d2f
size 38817
