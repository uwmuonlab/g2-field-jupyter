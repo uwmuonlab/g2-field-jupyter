version https://git-lfs.github.com/spec/v1
oid sha256:e425d16adb45ae965c882d810ae255854e8a0d8392c891d949ca44a82e405f11
size 4047623
