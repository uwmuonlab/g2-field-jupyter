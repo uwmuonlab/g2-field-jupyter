version https://git-lfs.github.com/spec/v1
oid sha256:68c38b05cf5e0d47a89310b42468c3c3da03c3fa2811c03cdad36b9076a90a31
size 8293240
