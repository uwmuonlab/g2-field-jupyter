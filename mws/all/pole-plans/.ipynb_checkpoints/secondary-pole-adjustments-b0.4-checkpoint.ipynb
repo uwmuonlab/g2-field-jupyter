version https://git-lfs.github.com/spec/v1
oid sha256:b166b93af132ef133431186c03db54dcdbb8c90e595bc78d93adb057eeb66c1c
size 31786
