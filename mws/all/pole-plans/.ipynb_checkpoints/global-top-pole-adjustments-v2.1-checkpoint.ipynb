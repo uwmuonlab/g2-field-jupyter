version https://git-lfs.github.com/spec/v1
oid sha256:23e14a32e85dc929aea9bcebbcfb8c6f4d9a912cd548b2a2fc7c9f80800424c7
size 3026416
