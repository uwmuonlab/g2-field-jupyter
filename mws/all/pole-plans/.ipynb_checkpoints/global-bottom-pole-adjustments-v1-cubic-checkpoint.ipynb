version https://git-lfs.github.com/spec/v1
oid sha256:40c086d27c61a9c999a1e7bd457066090f24a07b1d7aa46ab6a78bc06cecc61b
size 825009
