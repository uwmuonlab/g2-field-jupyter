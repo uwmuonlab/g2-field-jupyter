version https://git-lfs.github.com/spec/v1
oid sha256:5d01ac10723909922aa6b31faff33a1eb66ea4f72d77dc8af2edfeeab5713e4a
size 4706909
