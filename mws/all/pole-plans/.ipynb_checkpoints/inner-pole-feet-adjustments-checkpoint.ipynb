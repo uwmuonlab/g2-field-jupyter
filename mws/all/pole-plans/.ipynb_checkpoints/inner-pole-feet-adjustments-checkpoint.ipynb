version https://git-lfs.github.com/spec/v1
oid sha256:b2448366691e31d8e582f0c1e174ee18bbf2fb0f5a98d614f098c6f4f13d1604
size 980519
