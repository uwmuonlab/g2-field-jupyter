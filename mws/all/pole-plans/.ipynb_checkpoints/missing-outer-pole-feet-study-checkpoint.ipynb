version https://git-lfs.github.com/spec/v1
oid sha256:5630c24ef17e18ea11b38790fa79189d481f3088de1a43536061cb0fd4f32c49
size 38820
