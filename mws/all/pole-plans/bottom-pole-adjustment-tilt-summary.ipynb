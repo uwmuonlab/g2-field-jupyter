version https://git-lfs.github.com/spec/v1
oid sha256:7d90dab548e0ec39702a20be3051635df0fabf6346cb2b06703d4edf07c94b72
size 717888
