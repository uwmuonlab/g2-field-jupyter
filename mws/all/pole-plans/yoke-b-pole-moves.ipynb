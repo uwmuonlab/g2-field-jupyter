version https://git-lfs.github.com/spec/v1
oid sha256:9686e637b6218ac7779207b400a7bb6085295af54d30d1092630576190da96f2
size 365564
