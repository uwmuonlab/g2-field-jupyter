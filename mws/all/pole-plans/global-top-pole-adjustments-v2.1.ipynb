version https://git-lfs.github.com/spec/v1
oid sha256:bcbf35b256ff683b418e6d55560b0c4b7eec1c2ec0afbf3a1ca11c762c95b251
size 3756364
