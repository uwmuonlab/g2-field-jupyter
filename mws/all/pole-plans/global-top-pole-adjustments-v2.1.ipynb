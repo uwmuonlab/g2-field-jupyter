version https://git-lfs.github.com/spec/v1
oid sha256:f12636b5765edb727209469436dc991d2e80b64ff58fc21622c2b8d724c11c98
size 3756055
