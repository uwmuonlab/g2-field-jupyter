version https://git-lfs.github.com/spec/v1
oid sha256:3b2a1f58a38ec069e22f327ef3b9792b4cdf703f30229a4d1d0b4c71f57f5c6e
size 720178
