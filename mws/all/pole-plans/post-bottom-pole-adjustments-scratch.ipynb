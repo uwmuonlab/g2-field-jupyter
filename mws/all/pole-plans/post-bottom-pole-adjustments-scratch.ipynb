version https://git-lfs.github.com/spec/v1
oid sha256:4f532512d648ff70f62f458e740a9504853544e25f07c8c49e85ab335ac07a4e
size 1106457
