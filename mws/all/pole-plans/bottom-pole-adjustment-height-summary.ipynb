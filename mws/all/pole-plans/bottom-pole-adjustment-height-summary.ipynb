version https://git-lfs.github.com/spec/v1
oid sha256:a0765b6e89f3db9bd5255e8ee164d7f9d877f70148440a660a635c1275a28ea2
size 880191
