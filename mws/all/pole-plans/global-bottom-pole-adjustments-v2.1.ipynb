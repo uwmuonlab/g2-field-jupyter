version https://git-lfs.github.com/spec/v1
oid sha256:ef345f9f24b14a245b66323836bc7a9ccf95f561e993a67d99661f382d24bb77
size 724685
