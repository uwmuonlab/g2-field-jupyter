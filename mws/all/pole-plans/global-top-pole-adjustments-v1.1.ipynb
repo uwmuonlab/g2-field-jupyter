version https://git-lfs.github.com/spec/v1
oid sha256:c99789aefcceb3f75f8988c87b95e2418a12f99b86272250a2554efde5d9358d
size 296746
