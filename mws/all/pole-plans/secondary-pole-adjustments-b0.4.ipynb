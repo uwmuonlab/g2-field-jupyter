version https://git-lfs.github.com/spec/v1
oid sha256:2c9b5bea03803482ec9beb7fd55001d9a10ca5f7abbd4894993fd579a2e1f49d
size 1637381
