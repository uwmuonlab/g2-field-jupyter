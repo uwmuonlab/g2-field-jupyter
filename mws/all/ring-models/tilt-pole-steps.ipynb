version https://git-lfs.github.com/spec/v1
oid sha256:b5b606ebcddf0f2f538a58ca5ca204048f88d10da2c1c52b697e24282f7a62c5
size 185286
