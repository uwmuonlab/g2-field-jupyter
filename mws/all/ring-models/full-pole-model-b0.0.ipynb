version https://git-lfs.github.com/spec/v1
oid sha256:20232665dd13980ecdcc68a99be2ede546c73d16219dd5180a533e811363c161
size 12321
