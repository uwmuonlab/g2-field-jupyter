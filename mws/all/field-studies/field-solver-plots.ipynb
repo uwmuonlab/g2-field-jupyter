version https://git-lfs.github.com/spec/v1
oid sha256:e6a1f584f4decd27e09763ef00a4f7eb5710f854c93c936f423b9e08cbbc1e1d
size 1928266
