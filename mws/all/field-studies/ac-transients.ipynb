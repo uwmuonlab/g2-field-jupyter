version https://git-lfs.github.com/spec/v1
oid sha256:51c4455d40f3488a710fc6091e9e6c9c49feba1022901afa08fab76e75ce611e
size 163584
