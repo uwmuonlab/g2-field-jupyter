version https://git-lfs.github.com/spec/v1
oid sha256:ac1fcd46d4a3ff0a4fbf4ebe991493f02a3ac80b0ca3181d978c755be4ce57ea
size 719612
