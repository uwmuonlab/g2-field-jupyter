version https://git-lfs.github.com/spec/v1
oid sha256:8b6aaefd8aefcaedc7eeb94178b1594b4ccc65ef686f00024e56a348cfaffc24
size 87204
