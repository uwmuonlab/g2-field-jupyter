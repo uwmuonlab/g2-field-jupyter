version https://git-lfs.github.com/spec/v1
oid sha256:957670080c83bacf1df7cd3105ad8c4bc11f3bd44ee4a57c4c2f47ea6d365392
size 1105411
