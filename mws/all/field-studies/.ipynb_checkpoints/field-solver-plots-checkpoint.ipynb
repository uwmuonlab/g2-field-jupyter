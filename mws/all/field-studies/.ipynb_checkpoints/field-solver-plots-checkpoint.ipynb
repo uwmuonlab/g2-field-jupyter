version https://git-lfs.github.com/spec/v1
oid sha256:b45d83461f7de0c1c4cdc2dbcc5640ea0733e0f7436b9f014a11c66b8a6619ec
size 1042048
