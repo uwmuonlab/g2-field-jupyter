version https://git-lfs.github.com/spec/v1
oid sha256:4e5d3ed1484702091637388524faa11ad362a20575226fee7e67ca3a863f7969
size 2418783
