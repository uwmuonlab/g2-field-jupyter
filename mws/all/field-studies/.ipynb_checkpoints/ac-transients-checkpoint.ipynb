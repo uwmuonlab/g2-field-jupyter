version https://git-lfs.github.com/spec/v1
oid sha256:97cba7d7d828879c80179e84af2c09b43bdd23848f01b94d5c2c549f1f3a6164
size 257113
