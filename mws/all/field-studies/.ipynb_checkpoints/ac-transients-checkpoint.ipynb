version https://git-lfs.github.com/spec/v1
oid sha256:eb218c9e6623081913fa1370c7d6affb6f638581e0205e3f0a02d3f065d504d9
size 167997
