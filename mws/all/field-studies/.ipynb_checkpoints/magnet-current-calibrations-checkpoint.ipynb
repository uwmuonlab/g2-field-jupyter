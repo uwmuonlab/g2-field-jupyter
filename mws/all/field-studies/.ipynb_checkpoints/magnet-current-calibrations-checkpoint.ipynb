version https://git-lfs.github.com/spec/v1
oid sha256:72b2e0dbece353791687d3731d78cbd2a4a9714a6618a46c1c9699ff153fcce9
size 7180
