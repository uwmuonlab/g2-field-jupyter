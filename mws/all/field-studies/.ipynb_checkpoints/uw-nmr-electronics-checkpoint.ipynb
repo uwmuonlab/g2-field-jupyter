version https://git-lfs.github.com/spec/v1
oid sha256:8625077664dadae8b2b72ccd9178bb39af02f1c19179664d19b9548a7ec65ff7
size 428870
