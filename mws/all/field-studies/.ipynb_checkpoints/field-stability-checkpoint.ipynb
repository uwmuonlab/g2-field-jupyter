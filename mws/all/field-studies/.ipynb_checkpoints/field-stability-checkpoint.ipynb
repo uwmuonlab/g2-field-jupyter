version https://git-lfs.github.com/spec/v1
oid sha256:2c5bf36aed188d4716dd341ac9833d092fb6bfcff8ab8546e615e330d50b03cc
size 1201977
