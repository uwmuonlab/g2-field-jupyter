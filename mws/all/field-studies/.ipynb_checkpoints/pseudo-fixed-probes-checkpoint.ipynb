version https://git-lfs.github.com/spec/v1
oid sha256:0ba7cd5b49f791e78e57f3b3f6a9d7f872286e53a50743b3a1a291a72f2acaf4
size 3122879
