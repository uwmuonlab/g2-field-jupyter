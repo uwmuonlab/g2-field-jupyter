version https://git-lfs.github.com/spec/v1
oid sha256:6531678206341d8b463a3211e035ecf26e19f29176d50ceb818dd08dbd3319ea
size 1831049
