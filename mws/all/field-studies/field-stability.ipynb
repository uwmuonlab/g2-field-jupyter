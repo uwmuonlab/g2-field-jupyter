version https://git-lfs.github.com/spec/v1
oid sha256:7114701cc7274b92f2d4a2c6c687f1b5ea22cd2743e9377693fb639deb0b61fa
size 1439931
