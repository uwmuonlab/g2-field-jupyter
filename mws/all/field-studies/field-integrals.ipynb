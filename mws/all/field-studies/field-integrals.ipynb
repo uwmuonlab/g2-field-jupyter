version https://git-lfs.github.com/spec/v1
oid sha256:a66213ae9bd474d424e864fa5ac4e4f9cecd2c54b109f93e0e7e6de92b38e520
size 1612
