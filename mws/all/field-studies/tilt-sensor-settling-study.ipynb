version https://git-lfs.github.com/spec/v1
oid sha256:f3a021a60f90d3ef24f037088c05cad1b9ce0574e88a74bdb4824469ea09dd61
size 1937958
