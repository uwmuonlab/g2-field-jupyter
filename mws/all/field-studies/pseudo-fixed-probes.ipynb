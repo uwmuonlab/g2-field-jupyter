version https://git-lfs.github.com/spec/v1
oid sha256:bbe8e7c6ddc07e04c780794df624c9ad488e003d683e1559888a75b6a02151d7
size 5267016
