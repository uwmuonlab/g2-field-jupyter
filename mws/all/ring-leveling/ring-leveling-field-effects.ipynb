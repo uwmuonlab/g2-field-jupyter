version https://git-lfs.github.com/spec/v1
oid sha256:cfa47592e9e60fe4b56dff192237858dc13e6b03473253ab3fb31b25fb6aa6d0
size 792654
