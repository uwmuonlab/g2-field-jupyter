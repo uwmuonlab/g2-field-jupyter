version https://git-lfs.github.com/spec/v1
oid sha256:b95fddb01d2cdf69675875312bc8303aa8c472b9ed75a2158c55435b0b77434b
size 5838081
