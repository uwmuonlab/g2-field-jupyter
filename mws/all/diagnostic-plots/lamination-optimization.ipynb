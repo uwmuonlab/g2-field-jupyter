version https://git-lfs.github.com/spec/v1
oid sha256:e5f4c7f763a22ee75cdf4be667376ce2733909453f94c39d6dc4b3cdf0856a5f
size 352317
