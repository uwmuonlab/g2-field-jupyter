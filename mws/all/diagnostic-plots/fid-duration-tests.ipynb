version https://git-lfs.github.com/spec/v1
oid sha256:9bc49efad40e0d4319a159c03d68e1586e18b8f0b6bc43ca29a7626befa0a1d3
size 1045218
