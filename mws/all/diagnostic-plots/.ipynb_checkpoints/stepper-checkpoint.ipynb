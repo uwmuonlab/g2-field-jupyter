version https://git-lfs.github.com/spec/v1
oid sha256:559bf96eb8169072bed57d5ae500b117c194e5cab40f4de94682741b57d9e411
size 1896
