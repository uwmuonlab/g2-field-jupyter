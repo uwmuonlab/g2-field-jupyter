version https://git-lfs.github.com/spec/v1
oid sha256:1374451fa636b3445aa32f9d673be21960c37d3c4918c0ac32a33df0d30ca5d6
size 15896
