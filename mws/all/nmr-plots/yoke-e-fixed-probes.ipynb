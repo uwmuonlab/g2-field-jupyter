version https://git-lfs.github.com/spec/v1
oid sha256:c88d1775b06e422a41c7f29e999bd1f2e9ebdc3d4c5486b2e1fad2b2627db76f
size 16537
