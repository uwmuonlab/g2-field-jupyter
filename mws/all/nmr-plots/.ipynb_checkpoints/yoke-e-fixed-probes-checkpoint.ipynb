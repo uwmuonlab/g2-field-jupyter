version https://git-lfs.github.com/spec/v1
oid sha256:ab8c98e71228c5f2e458808537c18a744006d75ae478dccf691dbee7b71b7454
size 51634
