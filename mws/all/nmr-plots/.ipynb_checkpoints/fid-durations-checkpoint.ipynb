version https://git-lfs.github.com/spec/v1
oid sha256:e92c6ba65b137af129e8e701d8584162eb84be6cc781da82e8c9760b460bde10
size 1473146
