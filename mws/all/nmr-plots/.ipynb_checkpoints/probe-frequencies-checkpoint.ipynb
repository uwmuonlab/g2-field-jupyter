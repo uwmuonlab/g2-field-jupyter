version https://git-lfs.github.com/spec/v1
oid sha256:3ce9447ab581337eab9c4b8b4bdcfb5a71cef5e77bc22d59689ff3e8666f42be
size 1767098
