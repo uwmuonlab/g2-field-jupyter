version https://git-lfs.github.com/spec/v1
oid sha256:ce86570910d6a17332703fe37b95060278afb49e0e2513a8b371a5a8c6b48da4
size 1366175
