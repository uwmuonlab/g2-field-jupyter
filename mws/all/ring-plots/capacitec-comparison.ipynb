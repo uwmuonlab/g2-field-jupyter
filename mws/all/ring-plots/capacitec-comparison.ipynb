version https://git-lfs.github.com/spec/v1
oid sha256:4a87afe8a461a7b6b61f2aaec4084d97d30e4652257ed4ef093e50d58be351e9
size 1419
