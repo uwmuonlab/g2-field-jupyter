version https://git-lfs.github.com/spec/v1
oid sha256:8c62614f429f6d0088a3726bedf362ad808ca79ff66ef577b271adec40e90bab
size 402274
