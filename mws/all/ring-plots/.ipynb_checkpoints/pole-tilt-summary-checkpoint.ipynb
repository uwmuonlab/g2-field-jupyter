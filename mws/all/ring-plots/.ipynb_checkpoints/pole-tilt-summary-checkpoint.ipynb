version https://git-lfs.github.com/spec/v1
oid sha256:8df12b6a94682048515d461101eae74321c6ed9a211cd96ef95370ef5f6ffe08
size 407230
