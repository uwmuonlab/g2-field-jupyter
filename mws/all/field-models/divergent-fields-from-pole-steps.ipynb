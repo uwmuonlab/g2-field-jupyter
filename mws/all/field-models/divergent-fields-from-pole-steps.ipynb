version https://git-lfs.github.com/spec/v1
oid sha256:18f2853edcf003fb10a63c589291409626142d8ed8132bf81ba260cdce1fff8c
size 237097
