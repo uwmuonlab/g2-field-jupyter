version https://git-lfs.github.com/spec/v1
oid sha256:545b09bd23e2139db1ba8067cc0d4bf9f96e07b620d9717d6362efcb813858df
size 80881
