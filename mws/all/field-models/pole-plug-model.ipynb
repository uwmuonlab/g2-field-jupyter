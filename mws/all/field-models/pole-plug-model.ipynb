version https://git-lfs.github.com/spec/v1
oid sha256:0ffba8b90e6d51fa2f09ca3ebe43e4b7aa3c9f945893e26254ddb3d05df700b0
size 207849
