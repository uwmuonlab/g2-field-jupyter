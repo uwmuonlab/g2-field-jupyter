version https://git-lfs.github.com/spec/v1
oid sha256:29b5638c6e3b3d382c2ecc15fbd21ff807b947bf6b3ad2d99d591ecc1f401c1f
size 7289
