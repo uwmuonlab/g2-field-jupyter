version https://git-lfs.github.com/spec/v1
oid sha256:f56fc38fd2cfeb7a74742105a22399fee2df94b22e8c49ceb8bd1a85e5a82d3a
size 590538
