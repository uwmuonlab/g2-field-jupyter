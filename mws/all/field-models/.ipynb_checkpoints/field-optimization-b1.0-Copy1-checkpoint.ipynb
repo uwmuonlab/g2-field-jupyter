version https://git-lfs.github.com/spec/v1
oid sha256:bdcbdd8358b7bc9f9b183c013f976eaa4ac78cf3dc381c87ca276e35de33dc3f
size 1677554
