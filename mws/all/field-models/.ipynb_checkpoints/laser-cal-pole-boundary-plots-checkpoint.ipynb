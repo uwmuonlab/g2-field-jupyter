version https://git-lfs.github.com/spec/v1
oid sha256:d9ac8ee3c0a0b09acbf2ddff5e9b8781ec2d94098bc1bd4d227d2d2cdabbb5b6
size 2445135
