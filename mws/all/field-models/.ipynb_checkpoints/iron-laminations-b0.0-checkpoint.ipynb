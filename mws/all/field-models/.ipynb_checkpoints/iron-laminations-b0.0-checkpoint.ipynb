version https://git-lfs.github.com/spec/v1
oid sha256:9d0c9838130962baabbcf77f4d55de10bd298a60c979326fbf78a32f374f820a
size 32747
