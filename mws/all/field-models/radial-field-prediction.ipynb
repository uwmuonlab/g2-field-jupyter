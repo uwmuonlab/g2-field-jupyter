version https://git-lfs.github.com/spec/v1
oid sha256:3c318b0c71bfa055103327dbb6a35df20915aed28978647a1116764c627a8d56
size 171519
