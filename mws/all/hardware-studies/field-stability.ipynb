version https://git-lfs.github.com/spec/v1
oid sha256:da1a278a319aa6643e8c6a55a5bd31a9de7ec0803f3793bbc3cf78df99d494e8
size 317013
