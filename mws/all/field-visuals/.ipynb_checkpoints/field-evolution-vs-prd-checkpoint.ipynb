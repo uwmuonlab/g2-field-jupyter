version https://git-lfs.github.com/spec/v1
oid sha256:b02178a2d4e0342da200a1f3f0d7becb83711452de67d61820ecb2ed75d2010e
size 912590
