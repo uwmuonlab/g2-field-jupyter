version https://git-lfs.github.com/spec/v1
oid sha256:68fa842f5df77d10ed66e26241036fac68456295a87b2696b9c75a5e7009b0f9
size 8818
