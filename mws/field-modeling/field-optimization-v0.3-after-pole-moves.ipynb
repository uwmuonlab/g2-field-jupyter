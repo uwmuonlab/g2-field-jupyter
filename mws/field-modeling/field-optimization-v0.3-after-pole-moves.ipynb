version https://git-lfs.github.com/spec/v1
oid sha256:2278d37852eab3274a3b2b7203fd64fe9929ffc7e488ac0f31ea3d24bdb975e2
size 2178042
