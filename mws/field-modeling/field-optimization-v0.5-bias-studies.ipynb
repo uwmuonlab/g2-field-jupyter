version https://git-lfs.github.com/spec/v1
oid sha256:89a65eb84f1fde1b125fd04ed43f66ea1b91a4e8b8cc4cc8e0dc4738632a7129
size 1565450
