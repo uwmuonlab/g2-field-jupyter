version https://git-lfs.github.com/spec/v1
oid sha256:f0253d9e38c3ca1340ffbed911012aacce53d568885ede72266cf2235134c6ee
size 26205
