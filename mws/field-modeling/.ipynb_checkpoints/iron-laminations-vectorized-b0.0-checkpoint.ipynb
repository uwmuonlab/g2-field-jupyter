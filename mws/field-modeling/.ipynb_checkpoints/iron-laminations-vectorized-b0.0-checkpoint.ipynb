version https://git-lfs.github.com/spec/v1
oid sha256:4a7902c516477ab4f2d85afb09bc91acbe87a7534d6ca80f694284bbff509437
size 15310
