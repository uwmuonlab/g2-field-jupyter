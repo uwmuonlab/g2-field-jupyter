version https://git-lfs.github.com/spec/v1
oid sha256:41d6fb4e12efbce40ee0ff553331826d5c73ac0d9f13fdf7d9bf20c865acdbd7
size 295098
