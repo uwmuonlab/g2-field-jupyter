version https://git-lfs.github.com/spec/v1
oid sha256:b9fdbab90250618fab03c21af02546915ee44e2246b0e7d9e0d68bee4ca91bbb
size 1664507
