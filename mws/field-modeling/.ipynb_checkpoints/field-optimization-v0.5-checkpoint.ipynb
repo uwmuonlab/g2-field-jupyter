version https://git-lfs.github.com/spec/v1
oid sha256:e70443e8a8576e6904b0e6f6b1aeb1a4ee2bface02a0b4666bc63680a60d94f1
size 1780236
