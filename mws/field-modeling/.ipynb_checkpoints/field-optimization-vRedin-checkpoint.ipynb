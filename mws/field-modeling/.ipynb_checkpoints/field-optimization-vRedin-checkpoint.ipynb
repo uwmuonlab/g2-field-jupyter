version https://git-lfs.github.com/spec/v1
oid sha256:12c27fbf2aa7e4772b6784afb1756de2ca080d7f29566e5189d08e81ea8f929b
size 559301
