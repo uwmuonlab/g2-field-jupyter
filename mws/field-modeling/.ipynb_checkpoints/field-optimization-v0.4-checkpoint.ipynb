version https://git-lfs.github.com/spec/v1
oid sha256:19f645d928e4d9de29a2bc191f8ade7c62b6a046491479ff75f755a242a7ef88
size 1403121
