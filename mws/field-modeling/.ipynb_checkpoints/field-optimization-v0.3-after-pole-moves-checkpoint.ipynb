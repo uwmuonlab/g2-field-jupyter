version https://git-lfs.github.com/spec/v1
oid sha256:a9d8ce7385b2a213209e62c3bc832a277b6b4135254518307a4dd45012066b70
size 1885384
