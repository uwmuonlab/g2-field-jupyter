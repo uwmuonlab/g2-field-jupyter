version https://git-lfs.github.com/spec/v1
oid sha256:98f6df7f8d6dd730bc58471ceb3268d3bb9fe06ea57ac81d47daa67c2586e889
size 520735
