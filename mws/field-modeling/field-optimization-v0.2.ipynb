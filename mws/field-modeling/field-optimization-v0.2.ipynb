version https://git-lfs.github.com/spec/v1
oid sha256:276e29e883c8f0e4eb561c1a0069919ed54b7dbbd6e78dc0c20b97f6c1a1a324
size 520737
