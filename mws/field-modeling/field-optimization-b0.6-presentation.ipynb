version https://git-lfs.github.com/spec/v1
oid sha256:9540a1a8691316c4a9c064f3e4f3f1412ebe465823d7e43634b0bd375efed034
size 1804375
