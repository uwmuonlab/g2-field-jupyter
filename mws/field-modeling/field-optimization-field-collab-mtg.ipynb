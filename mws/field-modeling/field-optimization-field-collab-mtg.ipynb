version https://git-lfs.github.com/spec/v1
oid sha256:f70310ecdf9e2cf263d77a474dd72d9cc53e19f06bd8d092e76c6a567b9807eb
size 808831
