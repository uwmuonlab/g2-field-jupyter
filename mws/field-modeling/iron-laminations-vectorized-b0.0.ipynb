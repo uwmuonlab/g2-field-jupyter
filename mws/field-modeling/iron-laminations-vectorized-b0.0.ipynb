version https://git-lfs.github.com/spec/v1
oid sha256:c44f4c6df04d29ff0de5cb557a4f742bff5c2fa5377b5c56d9e6378b5f9e8c16
size 16237
