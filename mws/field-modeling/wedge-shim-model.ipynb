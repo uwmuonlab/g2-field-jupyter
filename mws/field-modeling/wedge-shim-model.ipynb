version https://git-lfs.github.com/spec/v1
oid sha256:3771b446bb0822aedd497bfa8553712ae75ec58d5d2099a9b7fc6b61c9672f6f
size 409105
