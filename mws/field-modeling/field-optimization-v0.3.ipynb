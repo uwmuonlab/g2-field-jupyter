version https://git-lfs.github.com/spec/v1
oid sha256:164855310d633b225dde5ae1b329c8fadc64a58f12e849e0839ff5ca8f6620fe
size 436217
