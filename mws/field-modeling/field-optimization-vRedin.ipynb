version https://git-lfs.github.com/spec/v1
oid sha256:0566810563b69e474fe9573e8d9498a9b8e89d3372089ad33cc7fc3734f74e04
size 559299
