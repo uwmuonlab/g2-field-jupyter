version https://git-lfs.github.com/spec/v1
oid sha256:cf13857d25d956e4a9327544c80c6f08b7c9beb73921c896e4a7c829e17fd0e2
size 32744
