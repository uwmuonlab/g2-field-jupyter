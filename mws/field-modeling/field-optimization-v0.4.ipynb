version https://git-lfs.github.com/spec/v1
oid sha256:a8a44dac76eec9b7ec7081ca7abda202b65baff1abb58bc616d3049534e17425
size 1403117
