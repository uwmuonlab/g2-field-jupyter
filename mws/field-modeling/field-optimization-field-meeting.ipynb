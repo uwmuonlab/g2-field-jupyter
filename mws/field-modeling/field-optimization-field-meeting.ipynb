version https://git-lfs.github.com/spec/v1
oid sha256:87305d08ad54e7b9bfa61a35102591bcb1e76bdf33afb3f198c4a99e4adeebdd
size 767071
