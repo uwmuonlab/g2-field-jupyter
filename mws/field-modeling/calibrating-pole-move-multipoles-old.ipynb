version https://git-lfs.github.com/spec/v1
oid sha256:f3f06727f77a75fb4e110cabe0e91c4c90e5186d2174e3c53ba22bc83b77b3a4
size 1707783
