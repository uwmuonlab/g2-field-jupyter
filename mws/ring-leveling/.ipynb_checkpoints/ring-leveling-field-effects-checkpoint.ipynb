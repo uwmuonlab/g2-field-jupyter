version https://git-lfs.github.com/spec/v1
oid sha256:33630c1ded3479197de73019c61fcc62bc8b6dc54734857065f57d10d4d629db
size 794487
