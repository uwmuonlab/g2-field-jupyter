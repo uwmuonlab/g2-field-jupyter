version https://git-lfs.github.com/spec/v1
oid sha256:3fda5bd041810ba410b6af5a652a6d593f38d46d5f2a6d8cd8276630b7484021
size 1745878
