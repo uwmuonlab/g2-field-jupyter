version https://git-lfs.github.com/spec/v1
oid sha256:2e2eca5bce7f2aebfcc190001d3648fa9a5fea0f70306324d824e240ac9395db
size 256432
