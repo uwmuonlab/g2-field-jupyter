version https://git-lfs.github.com/spec/v1
oid sha256:6ac8b0c73a6f0f9d382a8becc0b4caddf32a99d2bcb8447c0ec66335dbb9d15d
size 1744802
