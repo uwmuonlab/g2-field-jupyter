version https://git-lfs.github.com/spec/v1
oid sha256:0782977fdf24e0ff34756bded7435e7b34b0d834c7ad8c193368f98811f5792d
size 568200
