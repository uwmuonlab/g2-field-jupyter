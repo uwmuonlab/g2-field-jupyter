version https://git-lfs.github.com/spec/v1
oid sha256:b3c565144575f5c6ab3192ad970e30287995c866871b4921fb494a9e39e43f0d
size 267648
