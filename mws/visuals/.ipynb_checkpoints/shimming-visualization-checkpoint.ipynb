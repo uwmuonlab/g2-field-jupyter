version https://git-lfs.github.com/spec/v1
oid sha256:2bde73ff50f9ee492ae5d8dbff0ae1cdece92babb01530bd9b6d206b17cbb928
size 1227356
