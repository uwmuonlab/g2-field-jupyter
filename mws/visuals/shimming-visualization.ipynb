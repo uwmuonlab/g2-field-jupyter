version https://git-lfs.github.com/spec/v1
oid sha256:f998a0538b2a8120d14acec8b6aaf18a6ea3a980850ecd6abff4a199aa43f022
size 1245483
