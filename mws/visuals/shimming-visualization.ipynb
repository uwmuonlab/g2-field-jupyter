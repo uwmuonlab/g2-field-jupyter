version https://git-lfs.github.com/spec/v1
oid sha256:8712fa8eaaaac5e3bed626b6b483550e1b02fcf68c1da5dea0dff83e8e303cea
size 246347
