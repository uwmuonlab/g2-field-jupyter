version https://git-lfs.github.com/spec/v1
oid sha256:a691cb7103ec4c3cd84a741cbf61bc7aac968cd516e71dae96c5985313f40685
size 57056
