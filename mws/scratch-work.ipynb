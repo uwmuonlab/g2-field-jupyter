version https://git-lfs.github.com/spec/v1
oid sha256:cbef7488a613b808f61d667d419cf5dda3b6ffbd43bb6d5ce2541d0caf366b3f
size 57053
