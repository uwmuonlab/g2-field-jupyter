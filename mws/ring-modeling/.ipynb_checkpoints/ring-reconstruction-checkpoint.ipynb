version https://git-lfs.github.com/spec/v1
oid sha256:e9c2bb2a7c75fff0c7b9abc46ed85338e5800c25d0a0adcb3ba26cb17eacce16
size 780126
