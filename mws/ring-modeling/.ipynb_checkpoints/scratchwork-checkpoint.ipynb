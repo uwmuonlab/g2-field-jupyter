version https://git-lfs.github.com/spec/v1
oid sha256:fb80dc13b12a93887dd40a6e99d4d63adae2ea04dc9acd60f1fbc55fefa1653e
size 11849
