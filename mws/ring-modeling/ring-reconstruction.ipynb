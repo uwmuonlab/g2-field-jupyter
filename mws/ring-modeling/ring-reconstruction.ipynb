version https://git-lfs.github.com/spec/v1
oid sha256:2f1b6ad63cb1c985de52d513034e779bd33e438b3bbd44453b3de9d24cf7294c
size 780114
