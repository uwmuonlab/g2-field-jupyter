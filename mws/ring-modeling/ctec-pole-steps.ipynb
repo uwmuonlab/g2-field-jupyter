version https://git-lfs.github.com/spec/v1
oid sha256:d53d78bfc1e33ba871b7991f8ac3dab0f628be9629542779a77e3a0b0c1a6dc2
size 2020909
