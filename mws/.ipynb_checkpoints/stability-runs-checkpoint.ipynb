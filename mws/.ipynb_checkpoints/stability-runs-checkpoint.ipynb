version https://git-lfs.github.com/spec/v1
oid sha256:3431d5e7f5e62b4083b9772cec60c538e4e924c667bbd78b2f5ddcedcbd8d0e3
size 387072
