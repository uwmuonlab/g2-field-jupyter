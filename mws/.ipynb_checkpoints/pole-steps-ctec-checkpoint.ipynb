version https://git-lfs.github.com/spec/v1
oid sha256:7280a32d767046ab6f3c0a1f50401bccd2772abcade16d56c2bbe4b8e21d9c1f
size 2026569
