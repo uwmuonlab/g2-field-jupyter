version https://git-lfs.github.com/spec/v1
oid sha256:e4188d5f80f9e8ce504256ec21b0046031f54a10d65950c574137960bf4127cf
size 21546
