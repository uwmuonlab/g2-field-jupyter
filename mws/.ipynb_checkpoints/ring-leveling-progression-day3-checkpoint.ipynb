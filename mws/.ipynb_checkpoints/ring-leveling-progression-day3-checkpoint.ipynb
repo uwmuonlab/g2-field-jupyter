version https://git-lfs.github.com/spec/v1
oid sha256:8b735b86c404c9750f61317d044097386f69381193926ca93e2112cdd42c45c6
size 409279
