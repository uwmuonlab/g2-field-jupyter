version https://git-lfs.github.com/spec/v1
oid sha256:c1116490c8cac502ce15ed3420bbf9e3b31a79298bc524924ab7c476aba5e0e4
size 302063
