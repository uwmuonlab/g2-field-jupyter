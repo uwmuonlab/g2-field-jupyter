version https://git-lfs.github.com/spec/v1
oid sha256:627d539599e5e3c467ccbdce0650f81ea526329dc2360bfe6230ed0381c5ddab
size 4782
