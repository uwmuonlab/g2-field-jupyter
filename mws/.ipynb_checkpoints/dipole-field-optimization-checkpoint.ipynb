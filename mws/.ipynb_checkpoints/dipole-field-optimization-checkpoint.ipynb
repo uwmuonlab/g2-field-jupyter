version https://git-lfs.github.com/spec/v1
oid sha256:1a6321698b7c709ea425e07bdab77bce74e1432e1258aacddf2b53419882518c
size 366718
