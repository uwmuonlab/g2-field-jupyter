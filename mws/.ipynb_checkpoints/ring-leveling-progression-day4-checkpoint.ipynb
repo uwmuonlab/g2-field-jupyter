version https://git-lfs.github.com/spec/v1
oid sha256:a952906b7b70d73683ea3349fae4cc66628a9b61c244fc0a5c836704c20051ea
size 418010
