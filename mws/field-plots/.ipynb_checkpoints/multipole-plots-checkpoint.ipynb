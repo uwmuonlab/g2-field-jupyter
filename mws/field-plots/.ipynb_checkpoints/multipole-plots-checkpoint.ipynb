version https://git-lfs.github.com/spec/v1
oid sha256:cb85c162bb8662df44279daf7c139c112f049688e1c9a63d0e715d6d6af636a2
size 490872
