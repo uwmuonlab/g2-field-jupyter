version https://git-lfs.github.com/spec/v1
oid sha256:c0f3df2c3d983556edd44e68a08666fd33c4b2e1b347db16329953adaa19c01a
size 8916089
