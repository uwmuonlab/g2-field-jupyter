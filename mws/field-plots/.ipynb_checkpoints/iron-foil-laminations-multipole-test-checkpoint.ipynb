version https://git-lfs.github.com/spec/v1
oid sha256:7e79272e8e9caa6406053a23829706f7d0ee2d71abd971e3e16e8420199dfcd9
size 265235
