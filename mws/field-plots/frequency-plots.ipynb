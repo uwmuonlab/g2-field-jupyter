version https://git-lfs.github.com/spec/v1
oid sha256:a184c5e12afb77ff9d6a255adf2b2126a0d2c025b6892457f4c41bd3747ba4b2
size 229784
