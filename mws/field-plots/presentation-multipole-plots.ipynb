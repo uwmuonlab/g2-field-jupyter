version https://git-lfs.github.com/spec/v1
oid sha256:03e7e93dc8bfe059a0040e0c6e292a6601a6d9b138ea097100b2cb584396624a
size 8916087
